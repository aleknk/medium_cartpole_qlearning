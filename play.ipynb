{
 "cells": [
  {
   "cell_type": "code",
   "execution_count": null,
   "metadata": {},
   "outputs": [],
   "source": [
    "import gymnasium as gym\n",
    "from cartpole.agent import QLearningAgent\n",
    "from cartpole.learn import q_learning\n",
    "\n",
    "LEARNING_RATE = 0.1\n",
    "DISCOUNT_FACTOR = 0.99\n",
    "START_EXPLORATION_PROB = 1.0\n",
    "FINAL_EXPLORATION_PROB = 0.1\n",
    "EXPLORATION_DECAY = 2e4\n",
    "\n",
    "N_EPISODES = int(3e4)\n",
    "SHOW_EVERY = int(3000)\n",
    "\n",
    "env = gym.make(\"CartPole-v1\", render_mode=\"rgb_array\")\n",
    "agent = QLearningAgent(env, \n",
    "                       learning_rate=LEARNING_RATE, discount_factor=DISCOUNT_FACTOR,\n",
    "                       start_exploration_prob=START_EXPLORATION_PROB, final_exploration_prob=FINAL_EXPLORATION_PROB, exploration_decay=EXPLORATION_DECAY)\n",
    "\n",
    "rewards = q_learning(agent, N_EPISODES, SHOW_EVERY)"
   ]
  },
  {
   "cell_type": "code",
   "execution_count": null,
   "metadata": {},
   "outputs": [],
   "source": [
    "save_gif_path = \"./playing.gif\" # TO SET BY THE USER\n",
    "play_rewards, frames = agent.play(n_episodes=10, save_gif_path=save_gif_path)"
   ]
  }
 ],
 "metadata": {
  "kernelspec": {
   "display_name": "Python 3.9.18 ('rl')",
   "language": "python",
   "name": "python3"
  },
  "language_info": {
   "codemirror_mode": {
    "name": "ipython",
    "version": 3
   },
   "file_extension": ".py",
   "mimetype": "text/x-python",
   "name": "python",
   "nbconvert_exporter": "python",
   "pygments_lexer": "ipython3",
   "version": "3.9.18"
  },
  "orig_nbformat": 4,
  "vscode": {
   "interpreter": {
    "hash": "4b2a6836d7b947cc3505a46ce7ad178dc2443ddf9e3955e3e378d1e72febca7f"
   }
  }
 },
 "nbformat": 4,
 "nbformat_minor": 2
}
